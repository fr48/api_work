{
 "cells": [
  {
   "cell_type": "markdown",
   "metadata": {},
   "source": [
    "Call the API from Dark Sky and get the current temperature\n",
    "\n",
    "The key from the Dark Sky website: https://api.darksky.net/forecast/a04bb7d74f42cfd1ae90f0d7a94f6267/37.8267,-122.4233\n",
    "\n",
    "The NYC coords are 40, -78\n",
    "\n",
    "After I did all the analysis, I went back and moved it all into one cell."
   ]
  },
  {
   "cell_type": "code",
   "execution_count": 1,
   "metadata": {},
   "outputs": [],
   "source": [
    "import requests"
   ]
  },
  {
   "cell_type": "markdown",
   "metadata": {},
   "source": [
    "I used this command once to install python-dotenv, but I don't need it anymore\n",
    "\n",
    "!pip3 install python-dotenv\n",
    "\n",
    "This is necessary for importing the secret key from a different file"
   ]
  },
  {
   "cell_type": "code",
   "execution_count": 2,
   "metadata": {},
   "outputs": [],
   "source": [
    "from dotenv import load_dotenv\n",
    "load_dotenv()\n",
    "\n",
    "import os\n",
    "SECRET_KEY = os.getenv(\"DARKSKY_API_KEY\")\n",
    "\n",
    "#check that I read it correctly\n",
    "#print(SECRET_KEY)"
   ]
  },
  {
   "cell_type": "code",
   "execution_count": 3,
   "metadata": {},
   "outputs": [
    {
     "name": "stdout",
     "output_type": "stream",
     "text": [
      "dict_keys(['latitude', 'longitude', 'timezone', 'currently', 'minutely', 'hourly', 'daily', 'flags', 'offset'])\n",
      "{'time': 1559838532, 'summary': 'Overcast', 'icon': 'cloudy', 'nearestStormDistance': 29, 'nearestStormBearing': 0, 'precipIntensity': 0, 'precipProbability': 0, 'temperature': 79.82, 'apparentTemperature': 81.33, 'dewPoint': 63.39, 'humidity': 0.57, 'pressure': 1010.29, 'windSpeed': 6.53, 'windGust': 7.36, 'windBearing': 302, 'cloudCover': 1, 'uvIndex': 3, 'visibility': 10, 'ozone': 326.65}\n",
      "dict_keys(['time', 'summary', 'icon', 'nearestStormDistance', 'nearestStormBearing', 'precipIntensity', 'precipProbability', 'temperature', 'apparentTemperature', 'dewPoint', 'humidity', 'pressure', 'windSpeed', 'windGust', 'windBearing', 'cloudCover', 'uvIndex', 'visibility', 'ozone'])\n",
      "Current Temperature is 79.82\n"
     ]
    }
   ],
   "source": [
    "response = requests.get(f'https://api.darksky.net/forecast/{SECRET_KEY}/40,-78')\n",
    "weather = response.json()\n",
    "print(weather.keys())\n",
    "\n",
    "current_temp = weather['currently']\n",
    "\n",
    "print(current_temp)\n",
    "print(current_temp.keys())\n",
    "\n",
    "# Could also do weather['currently']['temperature']\n",
    "print(f\"Current Temperature is {current_temp['temperature']}\")"
   ]
  },
  {
   "cell_type": "code",
   "execution_count": 5,
   "metadata": {},
   "outputs": [
    {
     "name": "stdout",
     "output_type": "stream",
     "text": [
      "Current temperature in America/Detroit is 66.68\n"
     ]
    }
   ],
   "source": [
    "response = requests.get(f'https://api.darksky.net/forecast/{SECRET_KEY}/42.2808,-83.7430')\n",
    "new_weather = response.json()\n",
    "print(f\"Current temperature in {new_weather['timezone']} is {new_weather['currently']['temperature']}\")"
   ]
  },
  {
   "cell_type": "code",
   "execution_count": null,
   "metadata": {},
   "outputs": [],
   "source": []
  },
  {
   "cell_type": "markdown",
   "metadata": {},
   "source": []
  },
  {
   "cell_type": "code",
   "execution_count": null,
   "metadata": {},
   "outputs": [],
   "source": []
  },
  {
   "cell_type": "code",
   "execution_count": null,
   "metadata": {},
   "outputs": [],
   "source": []
  }
 ],
 "metadata": {
  "kernelspec": {
   "display_name": "Python 3",
   "language": "python",
   "name": "python3"
  },
  "language_info": {
   "codemirror_mode": {
    "name": "ipython",
    "version": 3
   },
   "file_extension": ".py",
   "mimetype": "text/x-python",
   "name": "python",
   "nbconvert_exporter": "python",
   "pygments_lexer": "ipython3",
   "version": "3.7.3"
  }
 },
 "nbformat": 4,
 "nbformat_minor": 2
}
